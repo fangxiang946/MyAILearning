{
 "cells": [
  {
   "cell_type": "code",
   "execution_count": 3,
   "metadata": {
    "collapsed": true
   },
   "outputs": [],
   "source": [
    "import numpy as np\n",
    "import pandas as pd\n",
    "from matplotlib import pyplot as plt "
   ]
  },
  {
   "cell_type": "code",
   "execution_count": 5,
   "metadata": {
    "collapsed": true
   },
   "outputs": [],
   "source": [
    "#冒泡排序   双for相邻比\n",
    "def bubbleSort(arr):\n",
    "    for i in range(1,len(arr)):\n",
    "        for j in range(0,len(arr)-i):\n",
    "            if(arr[j]>arr[j+1]):\n",
    "                arr[j],arr[j+1]=arr[j+1],arr[j]\n",
    "    return arr"
   ]
  },
  {
   "cell_type": "code",
   "execution_count": 6,
   "metadata": {},
   "outputs": [
    {
     "data": {
      "text/plain": [
       "[0, 1, 2, 3, 5, 6, 6, 8, 9]"
      ]
     },
     "execution_count": 6,
     "metadata": {},
     "output_type": "execute_result"
    }
   ],
   "source": [
    "arr=[5,2,3,6,8,6,9,1,0]\n",
    "result=bubbleSort(arr)\n",
    "result"
   ]
  },
  {
   "cell_type": "code",
   "execution_count": 7,
   "metadata": {
    "collapsed": true
   },
   "outputs": [],
   "source": [
    "#选择排序   双for擂台比\n",
    "def selectionSort(arr):\n",
    "    for i in range(len(arr) - 1):\n",
    "        # 记录最小数的索引\n",
    "        minIndex = i\n",
    "        for j in range(i + 1, len(arr)):\n",
    "            if arr[j] < arr[minIndex]:\n",
    "                minIndex = j\n",
    "        # i 不是最小数时，将 i 和最小数进行交换\n",
    "        if i != minIndex:\n",
    "            arr[i], arr[minIndex] = arr[minIndex], arr[i]\n",
    "    return arr    "
   ]
  },
  {
   "cell_type": "code",
   "execution_count": 9,
   "metadata": {
    "collapsed": true
   },
   "outputs": [],
   "source": [
    "#插入排序   forwhile向前走\n",
    "def insertionSort(arr):\n",
    "    for i in range(len(arr)):\n",
    "        preIndex = i-1\n",
    "        current = arr[i]\n",
    "        while preIndex >= 0 and arr[preIndex] > current:\n",
    "            arr[preIndex+1] = arr[preIndex]\n",
    "            preIndex-=1\n",
    "        arr[preIndex+1] = current\n",
    "    return arr"
   ]
  },
  {
   "cell_type": "code",
   "execution_count": 26,
   "metadata": {
    "collapsed": true
   },
   "outputs": [],
   "source": [
    "#归并排序    分治法\n",
    "import math\n",
    "def mergeSort(arr):\n",
    "    if(len(arr)<2):\n",
    "        return arr\n",
    "    middle = math.floor(len(arr)/2)\n",
    "    left, right = arr[0:middle], arr[middle:]\n",
    "    return merge(mergeSort(left), mergeSort(right))\n",
    "def merge(left,right):\n",
    "    result = []\n",
    "    while left and right:\n",
    "        if left[0] <= right[0]:\n",
    "            result.append(left.pop(0));\n",
    "        else:\n",
    "            result.append(right.pop(0));\n",
    "    while left:\n",
    "        result.append(left.pop(0));\n",
    "    while right:\n",
    "        result.append(right.pop(0));\n",
    "    return result"
   ]
  },
  {
   "cell_type": "code",
   "execution_count": 27,
   "metadata": {},
   "outputs": [
    {
     "data": {
      "text/plain": [
       "[48, 49, 52, 63, 68, 71, 71, 75, 80, 97]"
      ]
     },
     "execution_count": 27,
     "metadata": {},
     "output_type": "execute_result"
    }
   ],
   "source": [
    "score = [random.randint(40,100) for i in range(10)]\n",
    "temp=mergeSort(score)\n",
    "temp"
   ]
  },
  {
   "cell_type": "code",
   "execution_count": 37,
   "metadata": {
    "collapsed": true
   },
   "outputs": [],
   "source": [
    "#快速排序  分支法  第一个作为基准\n",
    "def qsort(list):\n",
    "    if list:\n",
    "        pivot = list[0]\n",
    "        less = [x for x in list if x <  pivot]\n",
    "        more = [x for x in list[1:] if x >= pivot]\n",
    "        return qsort(less) + [pivot] + qsort(more)       \n",
    "    else:\n",
    "        return []"
   ]
  },
  {
   "cell_type": "code",
   "execution_count": 38,
   "metadata": {},
   "outputs": [
    {
     "data": {
      "text/plain": [
       "[43, 47, 49, 49, 56, 62, 83, 85, 86, 93]"
      ]
     },
     "execution_count": 38,
     "metadata": {},
     "output_type": "execute_result"
    }
   ],
   "source": [
    "score = [random.randint(40,100) for i in range(10)]\n",
    "temp=qsort(score)\n",
    "temp"
   ]
  },
  {
   "cell_type": "code",
   "execution_count": 2,
   "metadata": {
    "collapsed": true
   },
   "outputs": [],
   "source": [
    "#快速排序  分支法  随机选一个作为基准\n",
    "import random\n",
    "def qsortBetter(list):\n",
    "    if list:\n",
    "        pivot = random.choice(list)\n",
    "        index = list.index(pivot)\n",
    "        del list[index]\n",
    "        less = [x for x in list if x <  pivot]\n",
    "        more = [x for x in list if x >=  pivot]\n",
    "        return qsortBetter(less) + [pivot] + qsortBetter(more)       \n",
    "    else:\n",
    "        return []"
   ]
  },
  {
   "cell_type": "code",
   "execution_count": 3,
   "metadata": {},
   "outputs": [
    {
     "name": "stdout",
     "output_type": "stream",
     "text": [
      "[57, 50, 41, 68, 40, 75, 70, 69, 62, 99]\n",
      "[40, 41, 50, 57, 62, 68, 69, 70, 75, 99]\n"
     ]
    }
   ],
   "source": [
    "score = [random.randint(40,100) for i in range(10)]\n",
    "print(score)\n",
    "temp=qsortBetter(score)\n",
    "print(temp)"
   ]
  },
  {
   "cell_type": "code",
   "execution_count": 12,
   "metadata": {
    "collapsed": true
   },
   "outputs": [],
   "source": [
    "#奇偶分离\n",
    "import random\n",
    "def partition(list):\n",
    "    if list:\n",
    "        pivot = list[0]\n",
    "        less = [x for x in list[1:] if x % 2==1]\n",
    "        more = [x for x in list[1:] if x % 2==0]\n",
    "        return less + [pivot] + more       \n",
    "    else:\n",
    "        return []"
   ]
  },
  {
   "cell_type": "code",
   "execution_count": 13,
   "metadata": {},
   "outputs": [
    {
     "name": "stdout",
     "output_type": "stream",
     "text": [
      "[92, 61, 71, 43, 95, 91, 49, 60, 44, 41]\n",
      "[61, 71, 43, 95, 91, 49, 41, 92, 60, 44]\n"
     ]
    }
   ],
   "source": [
    "score = [random.randint(40,100) for i in range(10)]\n",
    "print(score)\n",
    "temp=partition(score)\n",
    "print(temp)"
   ]
  },
  {
   "cell_type": "code",
   "execution_count": null,
   "metadata": {
    "collapsed": true
   },
   "outputs": [],
   "source": []
  }
 ],
 "metadata": {
  "kernelspec": {
   "display_name": "Python 3",
   "language": "python",
   "name": "python3"
  },
  "language_info": {
   "codemirror_mode": {
    "name": "ipython",
    "version": 3
   },
   "file_extension": ".py",
   "mimetype": "text/x-python",
   "name": "python",
   "nbconvert_exporter": "python",
   "pygments_lexer": "ipython3",
   "version": "3.6.2"
  }
 },
 "nbformat": 4,
 "nbformat_minor": 2
}
