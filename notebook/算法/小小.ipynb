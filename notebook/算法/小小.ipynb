{
 "cells": [
  {
   "cell_type": "markdown",
   "metadata": {},
   "source": [
    "## 斐波那契数列"
   ]
  },
  {
   "cell_type": "code",
   "execution_count": 4,
   "metadata": {
    "collapsed": true
   },
   "outputs": [],
   "source": [
    "def fib3(n):\n",
    "    a, b = 0, 1\n",
    "    for i in range(n):\n",
    "        a, b = b, a+b\n",
    "    return a"
   ]
  },
  {
   "cell_type": "code",
   "execution_count": 8,
   "metadata": {},
   "outputs": [
    {
     "name": "stdout",
     "output_type": "stream",
     "text": [
      "[1, 1, 2, 3, 5, 8, 13, 21, 34, 55, 89, 144, 233, 377, 610]\n"
     ]
    }
   ],
   "source": [
    "ls=[]\n",
    "for i in range(1,16):\n",
    "    ls.append(fib3(i))\n",
    "print(ls)"
   ]
  },
  {
   "cell_type": "code",
   "execution_count": 60,
   "metadata": {},
   "outputs": [
    {
     "data": {
      "text/plain": [
       "[('gg', 15), ('fx', 12), ('hh', 10)]"
      ]
     },
     "execution_count": 60,
     "metadata": {},
     "output_type": "execute_result"
    }
   ],
   "source": [
    "from operator import itemgetter\n",
    "dic={\"fx\":12,\"gg\":15,\"hh\":10}\n",
    "#sorted(dic) #把key单独排序\n",
    "sorted(dic.items(),key=itemgetter(1),reverse = True) #按照value进行排序"
   ]
  },
  {
   "cell_type": "markdown",
   "metadata": {},
   "source": [
    "## 完美数  \n",
    "#### （完美数=其下所有因子之和（不含自己））"
   ]
  },
  {
   "cell_type": "code",
   "execution_count": 9,
   "metadata": {
    "collapsed": true
   },
   "outputs": [],
   "source": [
    "#找出一个数的因数\n",
    "def factors(n):\n",
    "    #return [i for i in range(1,n/2+1) if n%i == 0]\n",
    "    #如果仅仅是为了得到因数，可以用上面的\n",
    "    #如果是配合下面完全数，最好使用下面的。因为在下面少循环一次，1肯定是任何整数的因数\n",
    "    return [i for i in range(2,n//2+1) if n%i == 0]\n",
    "\n",
    "#找出某个数n以内的所有完全数，即在[1,n]内(含n)\n",
    "def perfect(n):\n",
    "    #从上面的factors中得到的因数列表中，少1,因此在求因数和的时候，要把1加上。\n",
    "    return [i for i in range(2,n+1) if (sum(factors(i))+1)==i]"
   ]
  },
  {
   "cell_type": "code",
   "execution_count": 11,
   "metadata": {},
   "outputs": [
    {
     "data": {
      "text/plain": [
       "[6, 28, 496, 8128]"
      ]
     },
     "execution_count": 11,
     "metadata": {},
     "output_type": "execute_result"
    }
   ],
   "source": [
    "perfect(10000)"
   ]
  },
  {
   "cell_type": "markdown",
   "metadata": {},
   "source": [
    "## 九宫格"
   ]
  },
  {
   "cell_type": "code",
   "execution_count": 63,
   "metadata": {
    "collapsed": true
   },
   "outputs": [],
   "source": [
    "import numpy as np\n",
    "def sudoku_rule(n):\n",
    "    sudoku = np.zeros((n,n),dtype=int)\n",
    "    tx = n//2\n",
    "    ty = 0\n",
    "    for i in range(n*n):\n",
    "        sudoku[ty][tx] = i+1\n",
    "        tx = tx+1\n",
    "        ty = ty-1\n",
    "        if ty<0 and tx>=n:      #右下有值了\n",
    "            tx = tx-1\n",
    "            ty = ty+2\n",
    "        elif ty<0:              \n",
    "            ty = n-1\n",
    "        elif tx>=n:             #条件(2)\n",
    "            tx = 0\n",
    "        elif sudoku[ty][tx]!=0: #条件(5)\n",
    "            tx = tx-1\n",
    "            ty = ty+2\n",
    "    return sudoku"
   ]
  },
  {
   "cell_type": "code",
   "execution_count": 64,
   "metadata": {},
   "outputs": [
    {
     "data": {
      "text/plain": [
       "array([[47, 58, 69, 80,  1, 12, 23, 34, 45],\n",
       "       [57, 68, 79,  9, 11, 22, 33, 44, 46],\n",
       "       [67, 78,  8, 10, 21, 32, 43, 54, 56],\n",
       "       [77,  7, 18, 20, 31, 42, 53, 55, 66],\n",
       "       [ 6, 17, 19, 30, 41, 52, 63, 65, 76],\n",
       "       [16, 27, 29, 40, 51, 62, 64, 75,  5],\n",
       "       [26, 28, 39, 50, 61, 72, 74,  4, 15],\n",
       "       [36, 38, 49, 60, 71, 73,  3, 14, 25],\n",
       "       [37, 48, 59, 70, 81,  2, 13, 24, 35]])"
      ]
     },
     "execution_count": 64,
     "metadata": {},
     "output_type": "execute_result"
    }
   ],
   "source": [
    "sudoku_rule(9)"
   ]
  },
  {
   "cell_type": "markdown",
   "metadata": {},
   "source": [
    "## 陀螺算法"
   ]
  },
  {
   "cell_type": "code",
   "execution_count": 1,
   "metadata": {
    "collapsed": true
   },
   "outputs": [],
   "source": [
    "def up(p1,p2):\n",
    "    return p1-1,p2\n",
    "def down(p1,p2):\n",
    "    return p1+1,p2\n",
    "def right(p1,p2):\n",
    "    return p1,p2+1\n",
    "def left(p1,p2):\n",
    "    return p1,p2-1"
   ]
  },
  {
   "cell_type": "code",
   "execution_count": 2,
   "metadata": {
    "collapsed": true
   },
   "outputs": [],
   "source": [
    "import numpy as np\n",
    "import math\n",
    "def tuoluo(ls):\n",
    "    result=[]\n",
    "    histroyStep=[]\n",
    "    nextStep=[]\n",
    "    currentStep=[]\n",
    "    startPoint=[]\n",
    "    m,n = ls.shape\n",
    "    small = m if m<=n else n\n",
    "    for k in range(math.ceil(small/2)):\n",
    "        p1,p2 = k,k\n",
    "        startPoint = [p1,p2]\n",
    "        nextStep = [p1,p2+1]       \n",
    "        while nextStep!=startPoint:\n",
    "            #print(currentStep)\n",
    "            currentStep = [p1,p2]\n",
    "            result.append(ls[p1,p2])\n",
    "            histroyStep.append(currentStep)\n",
    "            if p1 == k and p2 < n-k-1:\n",
    "                #print('right')\n",
    "                p1,p2 = right(p1,p2)\n",
    "            elif p1 < m-k-1 and p2 == n-k-1:\n",
    "                #print('down')\n",
    "                p1,p2 = down(p1,p2)\n",
    "            elif p1 == m-k-1 and p2 > k:\n",
    "                #print('left')\n",
    "                p1,p2 = left(p1,p2)\n",
    "            elif p1 > k and p2 == k:\n",
    "                #print('up')\n",
    "                p1,p2 = up(p1,p2)  \n",
    "            nextStep = [p1,p2]            \n",
    "    return result"
   ]
  },
  {
   "cell_type": "code",
   "execution_count": 3,
   "metadata": {},
   "outputs": [
    {
     "name": "stdout",
     "output_type": "stream",
     "text": [
      "[[ 1  2  3  4  5]\n",
      " [ 6  7  8  9 10]\n",
      " [11 12 13 14 15]\n",
      " [16 17 18 19 20]\n",
      " [21 22 23 24 25]]\n",
      "-----------------------------\n",
      "[1, 2, 3, 4, 5, 10, 15, 20, 25, 24, 23, 22, 21, 16, 11, 6, 7, 8, 9, 14, 19, 18, 17, 12, 13]\n"
     ]
    }
   ],
   "source": [
    "ls=np.arange(1,26).reshape(5,5)\n",
    "print(ls)\n",
    "print('-----------------------------')\n",
    "ha=tuoluo(ls)\n",
    "print(ha)"
   ]
  },
  {
   "cell_type": "markdown",
   "metadata": {
    "collapsed": true
   },
   "source": [
    "## 背包问题\n",
    "### 0-1背包问题"
   ]
  },
  {
   "cell_type": "code",
   "execution_count": 60,
   "metadata": {
    "collapsed": true
   },
   "outputs": [],
   "source": [
    "def bag(n, c, w, v):\n",
    "    \"\"\"\n",
    "    测试数据：\n",
    "    n = 6  物品的数量，\n",
    "    c = 10 书包能承受的重量，\n",
    "    w = [2, 2, 3, 1, 5, 2] 每个物品的重量，\n",
    "    v = [2, 3, 1, 5, 4, 3] 每个物品的价值\n",
    "    \"\"\"\n",
    "    # 置零，表示初始状态\n",
    "    value = [[0 for j in range(c + 1)] for i in range(n + 1)]\n",
    "    print(value)\n",
    "    print('---------------------')\n",
    "    for i in range(1, n + 1):\n",
    "        for j in range(1, c + 1):\n",
    "            value[i][j] = value[i - 1][j]\n",
    "            # 背包总容量够放当前物体，遍历前一个状态考虑是否置换\n",
    "            if j >= w[i - 1] and value[i][j] < value[i - 1][j - w[i - 1]] + v[i - 1]:\n",
    "                value[i][j] = value[i - 1][j - w[i - 1]] + v[i - 1]\n",
    "    for x in value:\n",
    "        print(x)\n",
    "    return value\n",
    "\n",
    "def show(n, c, w, value):\n",
    "    print('最大价值为:', value[n][c])\n",
    "    x = [False for i in range(n)]\n",
    "    j = c\n",
    "    for i in range(n, 0, -1):\n",
    "        if value[i][j] > value[i - 1][j]:\n",
    "            x[i - 1] = True\n",
    "            j -= w[i - 1]\n",
    "    print('背包中所装物品为:')\n",
    "    for i in range(n):\n",
    "        if x[i]:\n",
    "            print('第', i+1, '个,', end='')\n",
    "\n",
    "def bag1(n, c, w, v):\n",
    "    values = [0 for i in range(c+1)]\n",
    "    for i in range(1, n + 1):\n",
    "        for j in range(c, 0, -1):\n",
    "            #print(j)\n",
    "            # 背包总容量够放当前物体，遍历前一个状态考虑是否置换\n",
    "            if j >= w[i-1]:\n",
    "                values[j] = max(values[j-w[i-1]]+v[i-1], values[j])\n",
    "    return values"
   ]
  },
  {
   "cell_type": "code",
   "execution_count": 61,
   "metadata": {},
   "outputs": [
    {
     "data": {
      "text/plain": [
       "[0, 5, 5, 8, 8, 11, 11, 13, 13, 13, 15]"
      ]
     },
     "execution_count": 61,
     "metadata": {},
     "output_type": "execute_result"
    }
   ],
   "source": [
    "n = 6  #物品的数量，\n",
    "c = 10 #书包能承受的重量，\n",
    "w = [2, 2, 3, 1, 5, 2] #每个物品的重量，\n",
    "v = [2, 3, 1, 5, 4, 3] #每个物品的价值\n",
    "#value=bag(n,c,w,v)\n",
    "#show(n,c,w,value)\n",
    "bag1(n,c,w,v)"
   ]
  },
  {
   "cell_type": "markdown",
   "metadata": {},
   "source": [
    "## 屋檐积水"
   ]
  },
  {
   "cell_type": "code",
   "execution_count": 30,
   "metadata": {
    "collapsed": true
   },
   "outputs": [],
   "source": [
    "import numpy as np\n",
    "def searchpeakpoint(ls):\n",
    "    peak_ls=[]\n",
    "    if len(ls) > 2:\n",
    "        if ls[0] >= ls[1]:\n",
    "            peak_ls.append(0)        \n",
    "        for i in range(1,len(ls)-1):\n",
    "            if ls[i] >= ls[i+1] and ls[i]>= ls[i-1] :\n",
    "                peak_ls.append(i)\n",
    "        if ls[-1] >= ls[-2]:\n",
    "            peak_ls.append(len(ls)-1)\n",
    "    elif len(ls) == 3 : \n",
    "        if ls[1]<ls[0] and ls[1]<ls[2]:\n",
    "            peak_ls.append(ls[1])\n",
    "    return peak_ls\n",
    "\n",
    "def fillvalley(ls,peak_ls):\n",
    "    result_ls = [0 for i in range(len(ls))]\n",
    "    if len(peak_ls) > 1 :\n",
    "        for i in range(len(peak_ls)-1):\n",
    "            if peak_ls[i+1]-peak_ls[i] > 1:\n",
    "                smallpeak = min(ls[peak_ls[i+1]],ls[peak_ls[i]])\n",
    "                for j in range(peak_ls[i]+1,peak_ls[i+1]):\n",
    "                    result_ls[j] = smallpeak - ls[j]\n",
    "    return result_ls"
   ]
  },
  {
   "cell_type": "code",
   "execution_count": 31,
   "metadata": {},
   "outputs": [
    {
     "name": "stdout",
     "output_type": "stream",
     "text": [
      "[7, 3, 1, 5]\n",
      "[0, 2, 4, 0]\n"
     ]
    }
   ],
   "source": [
    "ls=[7,3,1,5]\n",
    "print(ls)\n",
    "result_ls = fillvalley(ls,searchpeakpoint(ls))\n",
    "print(result_ls)"
   ]
  },
  {
   "cell_type": "code",
   "execution_count": null,
   "metadata": {
    "collapsed": true
   },
   "outputs": [],
   "source": []
  }
 ],
 "metadata": {
  "kernelspec": {
   "display_name": "Python 3",
   "language": "python",
   "name": "python3"
  },
  "language_info": {
   "codemirror_mode": {
    "name": "ipython",
    "version": 3
   },
   "file_extension": ".py",
   "mimetype": "text/x-python",
   "name": "python",
   "nbconvert_exporter": "python",
   "pygments_lexer": "ipython3",
   "version": "3.6.2"
  }
 },
 "nbformat": 4,
 "nbformat_minor": 2
}
