{
 "cells": [
  {
   "cell_type": "code",
   "execution_count": 2,
   "metadata": {
    "collapsed": true
   },
   "outputs": [],
   "source": [
    "import numpy as np\n",
    "import matplotlib.pyplot as plt\n",
    "\n",
    "import matplotlib\n",
    "matplotlib.rcParams['font.sans-serif'] = ['SimHei']\n",
    "matplotlib.rcParams['font.family'] = 'sans-serif'\n",
    "matplotlib.rcParams['axes.unicode_minus'] = False"
   ]
  },
  {
   "cell_type": "code",
   "execution_count": 16,
   "metadata": {
    "collapsed": true
   },
   "outputs": [],
   "source": [
    "def loadDataSet(filename):\n",
    "    X=[]\n",
    "    Y=[]\n",
    "    with open(filename,'rb') as f:\n",
    "        for idx,line in enumerate(f):\n",
    "            line = line.decode('utf-8').strip()\n",
    "            if not line:\n",
    "                continue\n",
    "            entity = line.split()\n",
    "            print(entity)\n",
    "            if idx==0:\n",
    "                numFea=len(entity)\n",
    "                \n",
    "            entity=list(map(float,entity))\n",
    "            \n",
    "            X.append(entity[:-1])\n",
    "            Y.append([entity[-1]])\n",
    "    return np.array(X),np.array(Y)"
   ]
  },
  {
   "cell_type": "code",
   "execution_count": 32,
   "metadata": {
    "collapsed": true
   },
   "outputs": [],
   "source": [
    "def h(theta,X):\n",
    "    return np.dot(X,theta)"
   ]
  },
  {
   "cell_type": "code",
   "execution_count": 35,
   "metadata": {
    "collapsed": true
   },
   "outputs": [],
   "source": [
    "def J(theta,X,Y):\n",
    "    m=len(X)\n",
    "    return np.sum(np.dot(h(theta,X)-Y,(h(theta,X)-Y).T)/(2*m))"
   ]
  },
  {
   "cell_type": "markdown",
   "metadata": {},
   "source": [
    "## 梯度下降"
   ]
  },
  {
   "cell_type": "code",
   "execution_count": 36,
   "metadata": {
    "collapsed": true
   },
   "outputs": [],
   "source": [
    "def bgd(alpha,maxloop,epsilon,X,Y):\n",
    "    m,n = X.shape\n",
    "    theta = np.zeros((2,1))\n",
    "    \n",
    "    count=0\n",
    "    converged=False\n",
    "    error=np.inf  #当前的代价函数值\n",
    "    errors=[]\n",
    "    thetas={0:[theta[0,0]],1:[theta[1,0]]}\n",
    "    \n",
    "    while count <= maxloop:\n",
    "        if(converged):\n",
    "            break;\n",
    "        count+=1\n",
    "        temp1=theta[0,0]-alpha/m*(h(theta,X)-Y).sum()\n",
    "        temp2=theta[1,0]-alpha/m*(np.dot(X[:,1][:,np.newaxis].T,(h(theta,X)-Y))).sum()\n",
    "        \n",
    "        #同步更新\n",
    "        theta[0,0]=temp1\n",
    "        theta[1,0]=temp2\n",
    "        thetas[0].append(temp1)\n",
    "        thetas[1].append(temp2)\n",
    "        \n",
    "        error=J(theta,X,Y)\n",
    "        errors.append(error)\n",
    "        \n",
    "        if(error < epsilon):\n",
    "            converged = True\n",
    "    \n",
    "    return theta,errors,thetas    "
   ]
  },
  {
   "cell_type": "code",
   "execution_count": 53,
   "metadata": {},
   "outputs": [
    {
     "name": "stdout",
     "output_type": "stream",
     "text": [
      "['1.006', '6.106']\n",
      "['1.005', '6.105']\n",
      "['1.004', '6.104']\n",
      "['2.016', '12.116']\n",
      "['2.115', '12.115']\n",
      "['2.014', '12.114']\n",
      "['3.016', '18.216']\n",
      "['3.015', '19.215']\n",
      "['3.014', '18.214']\n",
      "['6.016', '36.316']\n",
      "['6.115', '36.315']\n",
      "['6.014', '36.314']\n",
      "(12, 1)\n",
      "(12, 1)\n"
     ]
    }
   ],
   "source": [
    "X,Y=loadDataSet('./data/ex1.txt')\n",
    "print(X.shape)\n",
    "print(Y.shape)"
   ]
  },
  {
   "cell_type": "code",
   "execution_count": 54,
   "metadata": {},
   "outputs": [
    {
     "data": {
      "text/plain": [
       "(12, 2)"
      ]
     },
     "execution_count": 54,
     "metadata": {},
     "output_type": "execute_result"
    }
   ],
   "source": [
    "m,n=X.shape\n",
    "X=np.concatenate((np.ones((m,1)),X),axis=1)\n",
    "X.shape"
   ]
  },
  {
   "cell_type": "code",
   "execution_count": 79,
   "metadata": {
    "collapsed": true
   },
   "outputs": [],
   "source": [
    "alpha=0.01 #学习率\n",
    "maxloop=1500 #最大迭代次数\n",
    "epsilon=0.01 #收敛判断条件\n",
    "\n",
    "result = bgd(alpha,maxloop,epsilon,X,Y)\n",
    "theta,errors,thetas = result"
   ]
  },
  {
   "cell_type": "code",
   "execution_count": 80,
   "metadata": {
    "collapsed": true
   },
   "outputs": [],
   "source": [
    "xCopy=X.copy()\n",
    "xCopy.sort(0)\n",
    "yHat=h(theta,xCopy)#预测值"
   ]
  },
  {
   "cell_type": "code",
   "execution_count": 81,
   "metadata": {},
   "outputs": [
    {
     "name": "stdout",
     "output_type": "stream",
     "text": [
      "(12,)\n",
      "(12, 1)\n",
      "(2, 1)\n",
      "[[ 1.26638665]\n",
      " [ 5.61122991]]\n"
     ]
    }
   ],
   "source": [
    "print(xCopy[:,1].shape)\n",
    "print(yHat.shape)\n",
    "print(theta.shape)\n",
    "print(theta)"
   ]
  },
  {
   "cell_type": "code",
   "execution_count": 82,
   "metadata": {},
   "outputs": [
    {
     "data": {
      "image/png": "[encoded data removed]",
      "text/plain": [
       "<matplotlib.figure.Figure at 0x1a998caf470>"
      ]
     },
     "metadata": {},
     "output_type": "display_data"
    }
   ],
   "source": [
    "#绘制回归直线\n",
    "plt.xlabel(u'人口')\n",
    "plt.ylabel(u'收入')\n",
    "plt.plot(xCopy[:,1],yHat,color='r')\n",
    "plt.scatter(X[:,1].flatten(),Y.T.flatten())\n",
    "plt.show()"
   ]
  },
  {
   "cell_type": "code",
   "execution_count": 83,
   "metadata": {},
   "outputs": [
    {
     "data": {
      "image/png": "[encoded data removed]",
      "text/plain": [
       "<matplotlib.figure.Figure at 0x1a99a9ba828>"
      ]
     },
     "metadata": {},
     "output_type": "display_data"
    }
   ],
   "source": [
    "#绘制代价曲线\n",
    "plt.xlim(0,6)\n",
    "plt.ylim(0,40)\n",
    "plt.xlabel(u'迭代次数')\n",
    "plt.ylabel(u'代价函数J')\n",
    "plt.plot(range(len(errors)),errors)\n",
    "plt.show()"
   ]
  },
  {
   "cell_type": "code",
   "execution_count": 2,
   "metadata": {
    "collapsed": true
   },
   "outputs": [],
   "source": [
    "def bgdm(alpha,maxloop,epsilon,X,Y):\n",
    "    m,n = X.shape # m是样本数, n是特征数，也就是参数theta个数\n",
    "    theta = np.zeros((n,1))\n",
    "    \n",
    "    count=0\n",
    "    converged=False\n",
    "    error=np.inf  #当前的代价函数值\n",
    "    errors=[J(theta,X,Y),]\n",
    "    \n",
    "    thetas={}\n",
    "    for i in range(n):\n",
    "        thetas[i]=[theta[i,0],]#记录每一个theta j的历史更新\n",
    "    \n",
    "    \n",
    "    while count <= maxloop:\n",
    "        if(converged):\n",
    "            break;\n",
    "        count += 1\n",
    "        \n",
    "        #这里，我们的梯度计算统一了\n",
    "        for j in range(n):\n",
    "            deriv = np.dot(X[:,j].T,(h(theta,X)-Y)).sum() / m\n",
    "            thetas[j].append(theta[j,0]-alpha*deriv) #同步更新theta，先放入thetas，下面同步更新\n",
    "        \n",
    "        #同步更新\n",
    "        for j in range(n):\n",
    "            theta[j,0] = thetas[j][-1]\n",
    "        \n",
    "        error = J(theta,X,Y)\n",
    "        errors.append(error)  \n",
    "               \n",
    "        if(abs(errors[-1] - errors[-2]) < epsilon):\n",
    "            converged = True\n",
    "    \n",
    "    return theta,errors,thetas    "
   ]
  },
  {
   "cell_type": "code",
   "execution_count": 3,
   "metadata": {
    "collapsed": true
   },
   "outputs": [],
   "source": [
    "def standarize(X):\n",
    "    \"\"\"特征标准化处理\n",
    "    \n",
    "    Args:\n",
    "        X 样本集\n",
    "    Returns:\n",
    "        标准后的样本集\n",
    "    \"\"\"\n",
    "    m,n = X.shape\n",
    "    #归一化每一个特征\n",
    "    for j in range(n):\n",
    "        features = X[:,j]\n",
    "        meanVal = features.mean(axis=0)\n",
    "        std = features.std(axis=0)\n",
    "        if std !=0:\n",
    "            X[:,j] = (features-meanVal)/std\n",
    "        else:\n",
    "            X[:,j] = 0\n",
    "    return X"
   ]
  },
  {
   "cell_type": "code",
   "execution_count": null,
   "metadata": {
    "collapsed": true
   },
   "outputs": [],
   "source": [
    "ori_X,Y=loadDa"
   ]
  }
 ],
 "metadata": {
  "kernelspec": {
   "display_name": "Python 3",
   "language": "python",
   "name": "python3"
  },
  "language_info": {
   "codemirror_mode": {
    "name": "ipython",
    "version": 3
   },
   "file_extension": ".py",
   "mimetype": "text/x-python",
   "name": "python",
   "nbconvert_exporter": "python",
   "pygments_lexer": "ipython3",
   "version": "3.6.2"
  }
 },
 "nbformat": 4,
 "nbformat_minor": 2
}
