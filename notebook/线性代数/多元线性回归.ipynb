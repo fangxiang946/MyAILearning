{
 "cells": [
  {
   "cell_type": "code",
   "execution_count": 4,
   "metadata": {},
   "outputs": [],
   "source": [
    "import utils\n",
    "import numpy as np\n",
    "import matplotlib.pyplot as plt\n",
    "\n",
    "import matplotlib\n",
    "matplotlib.rcParams['font.sans-serif'] = ['SimHei']\n",
    "matplotlib.rcParams['font.family'] = 'sans-serif'\n",
    "matplotlib.rcParams['axes.unicode_minus'] = False"
   ]
  },
  {
   "cell_type": "code",
   "execution_count": 19,
   "metadata": {},
   "outputs": [
    {
     "name": "stdout",
     "output_type": "stream",
     "text": [
      "['62.47', '2', '213']\n",
      "['65.78', '3', '226']\n",
      "['58.05', '2', '179']\n",
      "['52.09', '2', '188']\n",
      "['74.98', '3', '215']\n",
      "['55.87', '2', '152']\n",
      "['90.66', '3', '290']\n",
      "['113.68', '3', '375']\n",
      "['97.92', '2', '305']\n",
      "['46.33', '2', '166']\n",
      "['134.55', '3', '385']\n",
      "['151.15', '3', '500']\n",
      "['63.01', '2', '195']\n",
      "['65.66', '2', '200']\n",
      "['108.81', '3', '310']\n",
      "['66.19', '3', '205']\n",
      "['54.1', '2', '158']\n",
      "['73.44', '2', '270']\n",
      "['51.78', '2', '150']\n",
      "['92.42', '3', '310']\n",
      "['59.13', '2', '180']\n",
      "['49.49', '1', '200']\n",
      "['51.68', '2', '155']\n",
      "['52.87', '2', '178']\n",
      "['69.46', '2', '303']\n",
      "['76.41', '2', '250']\n",
      "['63.1', '2', '218']\n",
      "['62.47', '2', '213']\n",
      "['65.78', '3', '226']\n",
      "['58.05', '2', '179']\n",
      "['52.09', '2', '188']\n",
      "['74.98', '3', '215']\n",
      "['55.87', '2', '152']\n",
      "['90.66', '3', '290']\n",
      "['113.68', '3', '375']\n",
      "['97.92', '2', '305']\n",
      "['46.33', '2', '166']\n",
      "['134.55', '3', '385']\n",
      "['151.15', '3', '500']\n",
      "['63.01', '2', '195']\n",
      "['65.66', '2', '200']\n",
      "['108.81', '3', '310']\n",
      "['66.19', '3', '205']\n",
      "['54.1', '2', '158']\n",
      "['73.44', '2', '270']\n",
      "['51.78', '2', '150']\n",
      "['92.42', '3', '310']\n",
      "['59.13', '2', '180']\n",
      "['49.49', '1', '200']\n",
      "['51.68', '2', '155']\n",
      "['52.87', '2', '178']\n",
      "['69.46', '2', '303']\n",
      "['76.41', '2', '250']\n",
      "['63.1', '2', '218']\n",
      "['62.47', '2', '213']\n",
      "['65.78', '3', '226']\n",
      "['58.05', '2', '179']\n",
      "['52.09', '2', '188']\n",
      "['74.98', '3', '215']\n",
      "['55.87', '2', '152']\n",
      "['90.66', '3', '290']\n",
      "['113.68', '3', '375']\n",
      "['97.92', '2', '305']\n",
      "['46.33', '2', '166']\n",
      "['134.55', '3', '385']\n",
      "['151.15', '3', '500']\n",
      "['63.01', '2', '195']\n",
      "['65.66', '2', '200']\n",
      "['108.81', '3', '310']\n",
      "['66.19', '3', '205']\n",
      "['54.1', '2', '158']\n",
      "['73.44', '2', '270']\n",
      "['51.78', '2', '150']\n",
      "['92.42', '3', '310']\n",
      "['59.13', '2', '180']\n",
      "['49.49', '1', '200']\n",
      "['51.68', '2', '155']\n",
      "['52.87', '2', '178']\n",
      "['69.46', '2', '303']\n",
      "['76.41', '2', '250']\n",
      "['63.1', '2', '218']\n",
      "(81, 2)\n",
      "(81, 1)\n"
     ]
    }
   ],
   "source": [
    "ori_X,Y = utils.loadDataSet('./data/houses.txt')\n",
    "print(ori_X.shape)\n",
    "print(Y.shape)"
   ]
  },
  {
   "cell_type": "code",
   "execution_count": 20,
   "metadata": {},
   "outputs": [],
   "source": [
    "m, n = ori_X.shape\n",
    "X = utils.standarize(ori_X.copy())\n",
    "X = np.concatenate((np.ones((m,1)),X),axis=1)"
   ]
  },
  {
   "cell_type": "code",
   "execution_count": 21,
   "metadata": {},
   "outputs": [],
   "source": [
    "alpha = 1 #学习率\n",
    "maxloop = 5000 #最大迭代次数\n",
    "epsilon = 0.000001 #收敛判断条件\n",
    "\n",
    "\n",
    "result = utils.bgd(alpha,maxloop,epsilon,X,Y) \n",
    "theta, errors,thetas = result"
   ]
  },
  {
   "cell_type": "code",
   "execution_count": 22,
   "metadata": {},
   "outputs": [
    {
     "name": "stdout",
     "output_type": "stream",
     "text": [
      "theta:\n",
      "[[ 239.85185185]\n",
      " [  46.28071005]\n",
      " [  -5.0971056 ]]\n",
      "\n",
      "预测的价格是[[ 235.45348787]]\n"
     ]
    }
   ],
   "source": [
    "print('theta:')\n",
    "print(theta)\n",
    "print('')\n",
    "\n",
    "#预测价格\n",
    "normalizedSize = (70-ori_X[:,0].mean(0))/ori_X[:,0].std(0)\n",
    "normalizedBr = (2-ori_X[:,1].mean(0))/ori_X[:,1].std(0)\n",
    "predicateX = np.matrix([[1,normalizedSize,normalizedBr]])\n",
    "price = utils.h(theta,predicateX)\n",
    "\n",
    "print(\"预测的价格是{0}\".format(price))"
   ]
  },
  {
   "cell_type": "code",
   "execution_count": 23,
   "metadata": {},
   "outputs": [
    {
     "data": {
      "text/plain": [
       "<matplotlib.text.Text at 0x1eb9fe21160>"
      ]
     },
     "execution_count": 23,
     "metadata": {},
     "output_type": "execute_result"
    },
    {
     "data": {
      "image/png": "[encoded data removed]",
      "text/plain": [
       "<matplotlib.figure.Figure at 0x1eb9e966ba8>"
      ]
     },
     "metadata": {},
     "output_type": "display_data"
    }
   ],
   "source": [
    "%matplotlib inline\n",
    "import matplotlib.ticker as mtick\n",
    "errorsFig = plt.figure()\n",
    "ax = errorsFig.add_subplot(111)\n",
    "ax.yaxis.set_major_formatter(mtick.FormatStrFormatter('%.2e'))\n",
    "\n",
    "ax.plot(range(len(errors)),errors)\n",
    "ax.set_xlabel(u'迭代次数')\n",
    "ax.set_ylabel(u'代价函数')"
   ]
  },
  {
   "cell_type": "code",
   "execution_count": null,
   "metadata": {
    "collapsed": true
   },
   "outputs": [],
   "source": []
  }
 ],
 "metadata": {
  "kernelspec": {
   "display_name": "Python 3",
   "language": "python",
   "name": "python3"
  },
  "language_info": {
   "codemirror_mode": {
    "name": "ipython",
    "version": 3
   },
   "file_extension": ".py",
   "mimetype": "text/x-python",
   "name": "python",
   "nbconvert_exporter": "python",
   "pygments_lexer": "ipython3",
   "version": "3.6.2"
  }
 },
 "nbformat": 4,
 "nbformat_minor": 2
}
