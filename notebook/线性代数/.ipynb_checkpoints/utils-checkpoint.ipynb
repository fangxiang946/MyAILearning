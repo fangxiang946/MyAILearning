{
 "cells": [
  {
   "cell_type": "code",
   "execution_count": 1,
   "metadata": {
    "collapsed": true
   },
   "outputs": [],
   "source": [
    "import numpy as np\n",
    "import matplotlib.pyplot as plt\n",
    "\n",
    "import matplotlib\n",
    "matplotlib.rcParams['font.sans-serif'] = ['SimHei']\n",
    "matplotlib.rcParams['font.family'] = 'sans-serif'\n",
    "matplotlib.rcParams['axes.unicode_minus'] = False"
   ]
  },
  {
   "cell_type": "code",
   "execution_count": 2,
   "metadata": {
    "collapsed": true
   },
   "outputs": [],
   "source": [
    "def loadDataSet(filename):\n",
    "    X=[]\n",
    "    Y=[]\n",
    "    with open(filename,'rb') as f:\n",
    "        for idx,line in enumerate(f):\n",
    "            line = line.decode('utf-8').strip()\n",
    "            if not line:\n",
    "                continue\n",
    "            entity = line.split()\n",
    "            print(entity)\n",
    "            if idx==0:\n",
    "                numFea=len(entity)\n",
    "                \n",
    "            entity=list(map(float,entity))\n",
    "            \n",
    "            X.append(entity[:-1])\n",
    "            Y.append([entity[-1]])\n",
    "    return np.array(X),np.array(Y)"
   ]
  },
  {
   "cell_type": "code",
   "execution_count": 3,
   "metadata": {
    "collapsed": true
   },
   "outputs": [],
   "source": [
    "def h(theta,X):\n",
    "    return np.dot(X,theta)"
   ]
  },
  {
   "cell_type": "code",
   "execution_count": 4,
   "metadata": {
    "collapsed": true
   },
   "outputs": [],
   "source": [
    "def J(theta,X,Y):\n",
    "    m=len(X)\n",
    "    return np.sum(np.dot(h(theta,X)-Y,(h(theta,X)-Y).T)/(2*m))"
   ]
  },
  {
   "cell_type": "code",
   "execution_count": 5,
   "metadata": {
    "collapsed": true
   },
   "outputs": [],
   "source": [
    "def standarize(X):\n",
    "    \"\"\"特征标准化处理\n",
    "    \n",
    "    Args:\n",
    "        X 样本集\n",
    "    Returns:\n",
    "        标准后的样本集\n",
    "    \"\"\"\n",
    "    m,n = X.shape\n",
    "    #归一化每一个特征\n",
    "    for j in range(n):\n",
    "        features = X[:,j]\n",
    "        meanVal = features.mean(axis=0)\n",
    "        std = features.std(axis=0)\n",
    "        if std !=0:\n",
    "            X[:,j] = (features-meanVal)/std\n",
    "        else:\n",
    "            X[:,j] = 0\n",
    "    return X"
   ]
  },
  {
   "cell_type": "code",
   "execution_count": 6,
   "metadata": {
    "collapsed": true
   },
   "outputs": [],
   "source": [
    "def bgd(alpha,maxloop,epsilon,X,Y):\n",
    "    m,n = X.shape # m是样本数, n是特征数，也就是参数theta个数\n",
    "    theta = np.zeros((n,1))\n",
    "    \n",
    "    count=0\n",
    "    converged=False\n",
    "    error=np.inf  #当前的代价函数值\n",
    "    errors=[J(theta,X,Y),]\n",
    "    \n",
    "    thetas={}\n",
    "    for i in range(n):\n",
    "        thetas[i]=[theta[i,0],]#记录每一个theta j的历史更新\n",
    "    \n",
    "    \n",
    "    while count <= maxloop:\n",
    "        if(converged):\n",
    "            break;\n",
    "        count += 1\n",
    "        \n",
    "        #这里，我们的梯度计算统一了\n",
    "        for j in range(n):\n",
    "            deriv = np.dot(X[:,j].T,(h(theta,X)-Y)).sum() / m\n",
    "            thetas[j].append(theta[j,0]-alpha*deriv) #同步更新theta，先放入thetas，下面同步更新\n",
    "        \n",
    "        #同步更新\n",
    "        for j in range(n):\n",
    "            theta[j,0] = thetas[j][-1]\n",
    "        \n",
    "        error = J(theta,X,Y)\n",
    "        errors.append(error)  \n",
    "               \n",
    "        if(abs(errors[-1] - errors[-2]) < epsilon):\n",
    "            converged = True\n",
    "    \n",
    "    return theta,errors,thetas    "
   ]
  },
  {
   "cell_type": "code",
   "execution_count": null,
   "metadata": {
    "collapsed": true
   },
   "outputs": [],
   "source": []
  }
 ],
 "metadata": {
  "kernelspec": {
   "display_name": "Python 3",
   "language": "python",
   "name": "python3"
  },
  "language_info": {
   "codemirror_mode": {
    "name": "ipython",
    "version": 3
   },
   "file_extension": ".py",
   "mimetype": "text/x-python",
   "name": "python",
   "nbconvert_exporter": "python",
   "pygments_lexer": "ipython3",
   "version": "3.6.2"
  }
 },
 "nbformat": 4,
 "nbformat_minor": 2
}
