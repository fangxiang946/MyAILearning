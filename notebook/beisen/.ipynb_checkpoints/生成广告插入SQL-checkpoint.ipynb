{
 "cells": [
  {
   "cell_type": "code",
   "execution_count": 1,
   "metadata": {
    "collapsed": true
   },
   "outputs": [],
   "source": [
    "import numpy as np\n",
    "import pandas as pd"
   ]
  },
  {
   "cell_type": "code",
   "execution_count": 2,
   "metadata": {},
   "outputs": [
    {
     "data": {
      "text/html": [
       "<div>\n",
       "<style>\n",
       "    .dataframe thead tr:only-child th {\n",
       "        text-align: right;\n",
       "    }\n",
       "\n",
       "    .dataframe thead th {\n",
       "        text-align: left;\n",
       "    }\n",
       "\n",
       "    .dataframe tbody tr th {\n",
       "        vertical-align: top;\n",
       "    }\n",
       "</style>\n",
       "<table border=\"1\" class=\"dataframe\">\n",
       "  <thead>\n",
       "    <tr style=\"text-align: right;\">\n",
       "      <th></th>\n",
       "      <th>ID</th>\n",
       "      <th>Name</th>\n",
       "      <th>Code</th>\n",
       "      <th>ParentId</th>\n",
       "    </tr>\n",
       "  </thead>\n",
       "  <tbody>\n",
       "    <tr>\n",
       "      <th>0</th>\n",
       "      <td>1C6498FE-249B-1A43-B422-0005065014DD</td>\n",
       "      <td>昆士敦</td>\n",
       "      <td>23723</td>\n",
       "      <td>D8A2AC7B-94C2-4A44-A58B-0F7D922CF6E5</td>\n",
       "    </tr>\n",
       "    <tr>\n",
       "      <th>1</th>\n",
       "      <td>BEDE6E98-BB25-C34F-8072-0009C6AC9A30</td>\n",
       "      <td>莞岛郡</td>\n",
       "      <td>2251104</td>\n",
       "      <td>028AE13A-8339-CB4F-BCE2-DA178DC545FA</td>\n",
       "    </tr>\n",
       "    <tr>\n",
       "      <th>2</th>\n",
       "      <td>EFBBB2BD-D55A-AB4A-851D-000D351C830A</td>\n",
       "      <td>雅加达</td>\n",
       "      <td>22022</td>\n",
       "      <td>9AB0317A-F5FC-405B-8EE9-22D8D63512D7</td>\n",
       "    </tr>\n",
       "    <tr>\n",
       "      <th>3</th>\n",
       "      <td>F588A7F4-7F80-0542-BDAC-00125CC159F3</td>\n",
       "      <td>太白市</td>\n",
       "      <td>2250614</td>\n",
       "      <td>D9114555-C8E9-1041-A59B-F8C52D436D52</td>\n",
       "    </tr>\n",
       "    <tr>\n",
       "      <th>4</th>\n",
       "      <td>13C5D575-2DB6-4046-A152-002647D30E7F</td>\n",
       "      <td>河口瑶族自治县</td>\n",
       "      <td>532513</td>\n",
       "      <td>BED4857E-0FA1-423A-8647-95BDEBE17CBA</td>\n",
       "    </tr>\n",
       "  </tbody>\n",
       "</table>\n",
       "</div>"
      ],
      "text/plain": [
       "                                     ID     Name     Code  \\\n",
       "0  1C6498FE-249B-1A43-B422-0005065014DD      昆士敦    23723   \n",
       "1  BEDE6E98-BB25-C34F-8072-0009C6AC9A30      莞岛郡  2251104   \n",
       "2  EFBBB2BD-D55A-AB4A-851D-000D351C830A      雅加达    22022   \n",
       "3  F588A7F4-7F80-0542-BDAC-00125CC159F3      太白市  2250614   \n",
       "4  13C5D575-2DB6-4046-A152-002647D30E7F  河口瑶族自治县   532513   \n",
       "\n",
       "                               ParentId  \n",
       "0  D8A2AC7B-94C2-4A44-A58B-0F7D922CF6E5  \n",
       "1  028AE13A-8339-CB4F-BCE2-DA178DC545FA  \n",
       "2  9AB0317A-F5FC-405B-8EE9-22D8D63512D7  \n",
       "3  D9114555-C8E9-1041-A59B-F8C52D436D52  \n",
       "4  BED4857E-0FA1-423A-8647-95BDEBE17CBA  "
      ]
     },
     "execution_count": 2,
     "metadata": {},
     "output_type": "execute_result"
    }
   ],
   "source": [
    "path = './data/地区常量.csv' #从 notebook 当前的位置读取 csv 文件\n",
    "\n",
    "df = pd.read_csv(open(path,'r',encoding='UTF-8'))   \n",
    "\n",
    "#df.info()\n",
    "df.head()"
   ]
  },
  {
   "cell_type": "code",
   "execution_count": 3,
   "metadata": {
    "collapsed": true
   },
   "outputs": [],
   "source": [
    "'''\n",
    "    根据ID获取地区对象\n",
    "'''\n",
    "def getLocById(Id):\n",
    "    temp = df[df.ID==Id].index\n",
    "    return df.iloc[temp].values\n",
    "\n",
    "'''\n",
    "    根据Code获取地区对象\n",
    "'''\n",
    "def getLocByCode(Code):\n",
    "    temp = df[df.Code==Code].index\n",
    "    return df.iloc[temp].values\n",
    "\n",
    "'''\n",
    "    是否有父节点\n",
    "'''\n",
    "def isHasParent(id):\n",
    "    if id == \"00000000-0000-0000-0000-000000000000\":\n",
    "        return False\n",
    "    else:\n",
    "        return True"
   ]
  },
  {
   "cell_type": "code",
   "execution_count": 4,
   "metadata": {
    "collapsed": true
   },
   "outputs": [],
   "source": [
    "'''\n",
    "    根据ID获取地区全称\n",
    "'''\n",
    "def getLocFullNameById(Id,name=\"\"): \n",
    "    loc = getLocById(Id)\n",
    "    if name:\n",
    "        name = \"-\" + name\n",
    "    \n",
    "    name = loc[0,1] + name\n",
    "    if isHasParent(loc[0,3]):       \n",
    "        name = getLocFullNameById(loc[0,3],name)\n",
    "    return name\n",
    "\n",
    "'''\n",
    "    根据Code获取地区全称\n",
    "'''\n",
    "def getLocFullNameByCode(Code):     \n",
    "    loc = getLocByCode(Code)\n",
    "    return getLocFullNameById(loc[0,0])\n",
    "\n",
    "'''\n",
    "    根据逗号分隔的code批量获取地区全称\n",
    "'''\n",
    "def batchGetFullNameByCodes(Codes):\n",
    "    if Codes=='':return ''\n",
    "    codeList = Codes.split(',')\n",
    "    locNameList = []\n",
    "    for i in codeList:\n",
    "        locNameList.append(getLocFullNameByCode(int(i)))\n",
    "    return \",\".join(locNameList)"
   ]
  },
  {
   "cell_type": "code",
   "execution_count": 6,
   "metadata": {},
   "outputs": [
    {
     "name": "stdout",
     "output_type": "stream",
     "text": [
      "河北省\n"
     ]
    }
   ],
   "source": [
    "dd=getLocFullNameById(\"8EFD71EF-8CCE-4684-96BC-492EDB18DAAC\")\n",
    "print(dd)\n",
    "\n",
    "cc=getLocFullNameByCode(130110)\n",
    "print(cc)"
   ]
  },
  {
   "cell_type": "code",
   "execution_count": 25,
   "metadata": {},
   "outputs": [
    {
     "name": "stdout",
     "output_type": "stream",
     "text": [
      "\n"
     ]
    }
   ],
   "source": [
    "codes = \"\"\n",
    "result = batchGetFullNameByCodes(codes)\n",
    "print(result)"
   ]
  },
  {
   "cell_type": "code",
   "execution_count": 7,
   "metadata": {},
   "outputs": [
    {
     "name": "stdout",
     "output_type": "stream",
     "text": [
      "<class 'pandas.core.frame.DataFrame'>\n",
      "RangeIndex: 147 entries, 0 to 146\n",
      "Data columns (total 13 columns):\n",
      "TenantId     147 non-null int64\n",
      "JobAdId      147 non-null int64\n",
      "JobId        147 non-null int64\n",
      "ChannelId    147 non-null int64\n",
      "JobAdName    147 non-null object\n",
      "Category     147 non-null object\n",
      "Kind         147 non-null object\n",
      "HeadCount    147 non-null object\n",
      "PostDate     147 non-null object\n",
      "EndTime      147 non-null object\n",
      "LocName      147 non-null object\n",
      "Duty         146 non-null object\n",
      "Require      146 non-null object\n",
      "dtypes: int64(4), object(9)\n",
      "memory usage: 15.0+ KB\n"
     ]
    }
   ],
   "source": [
    "path2 = './data/测试广告信息.csv' #从 notebook 当前的位置读取 csv 文件\n",
    "\n",
    "df2 = pd.read_csv(open(path2,'r',encoding='UTF-8'))   #UTF-8\n",
    "\n",
    "df2.info()"
   ]
  },
  {
   "cell_type": "code",
   "execution_count": 8,
   "metadata": {
    "collapsed": true
   },
   "outputs": [],
   "source": [
    "'''\n",
    "    将LocName列中ID转换成FullName\n",
    "'''\n",
    "def mergeForLocName(df_temp):\n",
    "    ll =[]\n",
    "    for index, row in df_temp.iterrows():\n",
    "        ll.append(batchGetFullNameByCodes(str(row.LocName)))\n",
    "    ser = pd.Series(ll)\n",
    "    df_temp[\"LocName\"]=ser\n",
    "    return df_temp"
   ]
  },
  {
   "cell_type": "code",
   "execution_count": 9,
   "metadata": {
    "collapsed": true
   },
   "outputs": [],
   "source": [
    "ret = mergeForLocName(df2.fillna(''))\n",
    "ret.to_csv('temp.csv', index=False)"
   ]
  },
  {
   "cell_type": "code",
   "execution_count": 10,
   "metadata": {},
   "outputs": [
    {
     "name": "stdout",
     "output_type": "stream",
     "text": [
      "<class 'pandas.core.frame.DataFrame'>\n",
      "RangeIndex: 147 entries, 0 to 146\n",
      "Data columns (total 13 columns):\n",
      "TenantId     147 non-null int64\n",
      "JobAdId      147 non-null int64\n",
      "JobId        147 non-null int64\n",
      "ChannelId    147 non-null int64\n",
      "JobAdName    147 non-null object\n",
      "Category     147 non-null object\n",
      "Kind         147 non-null object\n",
      "HeadCount    147 non-null object\n",
      "PostDate     147 non-null object\n",
      "EndTime      147 non-null object\n",
      "LocName      147 non-null object\n",
      "Duty         146 non-null object\n",
      "Require      146 non-null object\n",
      "dtypes: int64(4), object(9)\n",
      "memory usage: 15.0+ KB\n"
     ]
    }
   ],
   "source": [
    "resultpath = './temp.csv' #从 notebook 当前的位置读取 csv 文件\n",
    "\n",
    "resultdf = pd.read_csv(open(resultpath,'r',encoding='UTF-8'))   #UTF-8  GB2312\n",
    "\n",
    "resultdf.info()"
   ]
  },
  {
   "cell_type": "code",
   "execution_count": 11,
   "metadata": {},
   "outputs": [
    {
     "data": {
      "text/html": [
       "<div>\n",
       "<style>\n",
       "    .dataframe thead tr:only-child th {\n",
       "        text-align: right;\n",
       "    }\n",
       "\n",
       "    .dataframe thead th {\n",
       "        text-align: left;\n",
       "    }\n",
       "\n",
       "    .dataframe tbody tr th {\n",
       "        vertical-align: top;\n",
       "    }\n",
       "</style>\n",
       "<table border=\"1\" class=\"dataframe\">\n",
       "  <thead>\n",
       "    <tr style=\"text-align: right;\">\n",
       "      <th></th>\n",
       "      <th>TenantId</th>\n",
       "      <th>JobAdId</th>\n",
       "      <th>JobId</th>\n",
       "      <th>ChannelId</th>\n",
       "      <th>JobAdName</th>\n",
       "      <th>Category</th>\n",
       "      <th>Kind</th>\n",
       "      <th>HeadCount</th>\n",
       "      <th>PostDate</th>\n",
       "      <th>EndTime</th>\n",
       "      <th>LocName</th>\n",
       "      <th>Duty</th>\n",
       "      <th>Require</th>\n",
       "    </tr>\n",
       "  </thead>\n",
       "  <tbody>\n",
       "    <tr>\n",
       "      <th>0</th>\n",
       "      <td>100216</td>\n",
       "      <td>6009</td>\n",
       "      <td>5166</td>\n",
       "      <td>560000108</td>\n",
       "      <td>实验 1</td>\n",
       "      <td>社会招聘</td>\n",
       "      <td>实习</td>\n",
       "      <td>若干</td>\n",
       "      <td>2017/6/13 14:33:09</td>\n",
       "      <td>2222/2/2 0:00:00</td>\n",
       "      <td>安徽省</td>\n",
       "      <td>11</td>\n",
       "      <td>11</td>\n",
       "    </tr>\n",
       "    <tr>\n",
       "      <th>1</th>\n",
       "      <td>100216</td>\n",
       "      <td>6010</td>\n",
       "      <td>5165</td>\n",
       "      <td>560000108</td>\n",
       "      <td>职位1 2</td>\n",
       "      <td>社会招聘</td>\n",
       "      <td>全职</td>\n",
       "      <td>若干</td>\n",
       "      <td>2017/6/14 16:46:33</td>\n",
       "      <td>2222/2/2 0:00:00</td>\n",
       "      <td>内蒙古,国外-澳大利亚-昆士兰</td>\n",
       "      <td>全的</td>\n",
       "      <td>全的</td>\n",
       "    </tr>\n",
       "    <tr>\n",
       "      <th>2</th>\n",
       "      <td>100216</td>\n",
       "      <td>6011</td>\n",
       "      <td>5182</td>\n",
       "      <td>560000108</td>\n",
       "      <td>发发发</td>\n",
       "      <td>校园招聘</td>\n",
       "      <td>兼职</td>\n",
       "      <td>2</td>\n",
       "      <td>2017/6/22 11:08:56</td>\n",
       "      <td>2222/2/2 0:00:00</td>\n",
       "      <td>北京市</td>\n",
       "      <td>333</td>\n",
       "      <td>222</td>\n",
       "    </tr>\n",
       "    <tr>\n",
       "      <th>3</th>\n",
       "      <td>100216</td>\n",
       "      <td>6012</td>\n",
       "      <td>5182</td>\n",
       "      <td>560000108</td>\n",
       "      <td>发发发</td>\n",
       "      <td>校园招聘</td>\n",
       "      <td>兼职</td>\n",
       "      <td>2</td>\n",
       "      <td>2017/6/22 11:11:28</td>\n",
       "      <td>2222/2/2 0:00:00</td>\n",
       "      <td>北京市</td>\n",
       "      <td>333</td>\n",
       "      <td>222</td>\n",
       "    </tr>\n",
       "    <tr>\n",
       "      <th>4</th>\n",
       "      <td>100216</td>\n",
       "      <td>6013</td>\n",
       "      <td>5182</td>\n",
       "      <td>560000108</td>\n",
       "      <td>发发发 置顶</td>\n",
       "      <td>社会招聘</td>\n",
       "      <td>兼职</td>\n",
       "      <td>2</td>\n",
       "      <td>2017/6/22 11:16:16</td>\n",
       "      <td>2222/2/2 0:00:00</td>\n",
       "      <td>北京市</td>\n",
       "      <td>333</td>\n",
       "      <td>222</td>\n",
       "    </tr>\n",
       "  </tbody>\n",
       "</table>\n",
       "</div>"
      ],
      "text/plain": [
       "   TenantId  JobAdId  JobId  ChannelId JobAdName Category Kind HeadCount  \\\n",
       "0    100216     6009   5166  560000108      实验 1     社会招聘   实习        若干   \n",
       "1    100216     6010   5165  560000108     职位1 2     社会招聘   全职        若干   \n",
       "2    100216     6011   5182  560000108       发发发     校园招聘   兼职         2   \n",
       "3    100216     6012   5182  560000108       发发发     校园招聘   兼职         2   \n",
       "4    100216     6013   5182  560000108    发发发 置顶     社会招聘   兼职         2   \n",
       "\n",
       "             PostDate           EndTime          LocName Duty Require  \n",
       "0  2017/6/13 14:33:09  2222/2/2 0:00:00              安徽省   11      11  \n",
       "1  2017/6/14 16:46:33  2222/2/2 0:00:00  内蒙古,国外-澳大利亚-昆士兰   全的      全的  \n",
       "2  2017/6/22 11:08:56  2222/2/2 0:00:00              北京市  333     222  \n",
       "3  2017/6/22 11:11:28  2222/2/2 0:00:00              北京市  333     222  \n",
       "4  2017/6/22 11:16:16  2222/2/2 0:00:00              北京市  333     222  "
      ]
     },
     "execution_count": 11,
     "metadata": {},
     "output_type": "execute_result"
    }
   ],
   "source": [
    "resultdf.head()"
   ]
  },
  {
   "cell_type": "code",
   "execution_count": 12,
   "metadata": {
    "collapsed": true
   },
   "outputs": [],
   "source": [
    " def getSQL(baseName,tablename,df):\n",
    "    result = 'use '+ baseName + '\\n'\n",
    "    result += 'truncate table '+ tablename + '\\n'\n",
    "    file =\",\".join(df.columns)\n",
    "    for index,row in df.iterrows():\n",
    "        s = ''\n",
    "        s += 'insert into ' + tablename + ' (' + file + ') values ('\n",
    "        for i in range(df.columns.size): \n",
    "            rowstr = str(row[i])\n",
    "            if rowstr == 'null':\n",
    "                 rowText= rowstr           \n",
    "            elif df.dtypes[i]==\"int64\":\n",
    "                 rowText= rowstr\n",
    "            else:\n",
    "                if rowstr.find(\"'\") > 0:\n",
    "                    rowstr = rowstr.replace(\"'\", \"''\")\n",
    "                    rowText= \"'\"+ rowstr +\"'\"\n",
    "                else:\n",
    "                    rowText= \"'\"+ rowstr +\"'\"\n",
    "            s += str(rowText) +','\n",
    "        s = s[:-1] + ')'\n",
    "        result += s + '\\n'\n",
    "    return result"
   ]
  },
  {
   "cell_type": "code",
   "execution_count": 13,
   "metadata": {
    "collapsed": true
   },
   "outputs": [],
   "source": [
    "result = getSQL('BeisenRecruitmentCommon','JobAdMini',resultdf.fillna(value='null'))\n",
    "#print(result)\n",
    "with open('测试插入广告数据.sql', 'w') as f:\n",
    "    f.writelines(result)"
   ]
  },
  {
   "cell_type": "code",
   "execution_count": 15,
   "metadata": {},
   "outputs": [
    {
     "name": "stdout",
     "output_type": "stream",
     "text": [
      "<class 'pandas.core.frame.DataFrame'>\n",
      "RangeIndex: 5 entries, 0 to 4\n",
      "Data columns (total 6 columns):\n",
      "TenantId           5 non-null int64\n",
      "TenantName         5 non-null object\n",
      "ChannelId          5 non-null int64\n",
      "PortalId           5 non-null int64\n",
      "SiteDomain         4 non-null object\n",
      "MicroSiteDomain    4 non-null object\n",
      "dtypes: int64(3), object(3)\n",
      "memory usage: 320.0+ bytes\n"
     ]
    }
   ],
   "source": [
    "path3 = './data/测试租户信息.csv' #从 notebook 当前的位置读取 csv 文件\n",
    "\n",
    "df3 = pd.read_csv(open(path3,'r',encoding='UTF-8'))   #UTF-8\n",
    "\n",
    "df3.info()"
   ]
  },
  {
   "cell_type": "code",
   "execution_count": 16,
   "metadata": {
    "collapsed": true
   },
   "outputs": [],
   "source": [
    "result = getSQL('BeisenRecruitmentCommon','TenantInfoMini',df3.fillna(value='null'))\n",
    "#print(result)\n",
    "with open('测试插入租户数据.sql', 'w') as f:\n",
    "    f.writelines(result)"
   ]
  },
  {
   "cell_type": "code",
   "execution_count": null,
   "metadata": {
    "collapsed": true
   },
   "outputs": [],
   "source": []
  }
 ],
 "metadata": {
  "kernelspec": {
   "display_name": "Python 3",
   "language": "python",
   "name": "python3"
  },
  "language_info": {
   "codemirror_mode": {
    "name": "ipython",
    "version": 3
   },
   "file_extension": ".py",
   "mimetype": "text/x-python",
   "name": "python",
   "nbconvert_exporter": "python",
   "pygments_lexer": "ipython3",
   "version": "3.6.2"
  }
 },
 "nbformat": 4,
 "nbformat_minor": 2
}
