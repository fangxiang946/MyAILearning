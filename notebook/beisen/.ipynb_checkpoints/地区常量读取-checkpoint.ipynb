{
 "cells": [
  {
   "cell_type": "code",
   "execution_count": 1,
   "metadata": {
    "collapsed": true
   },
   "outputs": [],
   "source": [
    "import numpy as np\n",
    "import pandas as pd"
   ]
  },
  {
   "cell_type": "code",
   "execution_count": 21,
   "metadata": {},
   "outputs": [
    {
     "data": {
      "text/html": [
       "<div>\n",
       "<style>\n",
       "    .dataframe thead tr:only-child th {\n",
       "        text-align: right;\n",
       "    }\n",
       "\n",
       "    .dataframe thead th {\n",
       "        text-align: left;\n",
       "    }\n",
       "\n",
       "    .dataframe tbody tr th {\n",
       "        vertical-align: top;\n",
       "    }\n",
       "</style>\n",
       "<table border=\"1\" class=\"dataframe\">\n",
       "  <thead>\n",
       "    <tr style=\"text-align: right;\">\n",
       "      <th></th>\n",
       "      <th>ID</th>\n",
       "      <th>Name</th>\n",
       "      <th>Code</th>\n",
       "      <th>ParentId</th>\n",
       "    </tr>\n",
       "  </thead>\n",
       "  <tbody>\n",
       "    <tr>\n",
       "      <th>0</th>\n",
       "      <td>1C6498FE-249B-1A43-B422-0005065014DD</td>\n",
       "      <td>昆士敦</td>\n",
       "      <td>23723</td>\n",
       "      <td>D8A2AC7B-94C2-4A44-A58B-0F7D922CF6E5</td>\n",
       "    </tr>\n",
       "    <tr>\n",
       "      <th>1</th>\n",
       "      <td>BEDE6E98-BB25-C34F-8072-0009C6AC9A30</td>\n",
       "      <td>莞岛郡</td>\n",
       "      <td>2251104</td>\n",
       "      <td>028AE13A-8339-CB4F-BCE2-DA178DC545FA</td>\n",
       "    </tr>\n",
       "    <tr>\n",
       "      <th>2</th>\n",
       "      <td>EFBBB2BD-D55A-AB4A-851D-000D351C830A</td>\n",
       "      <td>雅加达</td>\n",
       "      <td>22022</td>\n",
       "      <td>9AB0317A-F5FC-405B-8EE9-22D8D63512D7</td>\n",
       "    </tr>\n",
       "    <tr>\n",
       "      <th>3</th>\n",
       "      <td>F588A7F4-7F80-0542-BDAC-00125CC159F3</td>\n",
       "      <td>太白市</td>\n",
       "      <td>2250614</td>\n",
       "      <td>D9114555-C8E9-1041-A59B-F8C52D436D52</td>\n",
       "    </tr>\n",
       "    <tr>\n",
       "      <th>4</th>\n",
       "      <td>13C5D575-2DB6-4046-A152-002647D30E7F</td>\n",
       "      <td>河口瑶族自治县</td>\n",
       "      <td>532513</td>\n",
       "      <td>BED4857E-0FA1-423A-8647-95BDEBE17CBA</td>\n",
       "    </tr>\n",
       "    <tr>\n",
       "      <th>5</th>\n",
       "      <td>CCDED271-BD76-9543-BC90-0036A6DFC01B</td>\n",
       "      <td>格但斯克</td>\n",
       "      <td>23215</td>\n",
       "      <td>7C3FB74D-C3DD-4E0B-AE0B-5DCAA7AD43F6</td>\n",
       "    </tr>\n",
       "    <tr>\n",
       "      <th>6</th>\n",
       "      <td>7815F045-EF9B-4BAF-8B21-0046DFB52533</td>\n",
       "      <td>上虞区</td>\n",
       "      <td>330601</td>\n",
       "      <td>F2464636-C812-4249-8E7F-5F8E3170F5C4</td>\n",
       "    </tr>\n",
       "    <tr>\n",
       "      <th>7</th>\n",
       "      <td>CB224E19-61D4-4089-96B2-004BDA6B6F05</td>\n",
       "      <td>青浦区</td>\n",
       "      <td>3115</td>\n",
       "      <td>086DDA76-A2CB-4814-9967-38C208BFFE2E</td>\n",
       "    </tr>\n",
       "    <tr>\n",
       "      <th>8</th>\n",
       "      <td>136D7D0A-0B7E-164A-8D6A-005C392B49A1</td>\n",
       "      <td>扎囊县</td>\n",
       "      <td>542202</td>\n",
       "      <td>96AD0C59-53C3-4FF0-9FC9-13AADAAD60AF</td>\n",
       "    </tr>\n",
       "    <tr>\n",
       "      <th>9</th>\n",
       "      <td>3F2DD3B4-F103-384B-8D0E-00654A274EA4</td>\n",
       "      <td>秦安县</td>\n",
       "      <td>620504</td>\n",
       "      <td>C00BDE93-3DC8-46E0-9C45-3E30ECBD10D5</td>\n",
       "    </tr>\n",
       "    <tr>\n",
       "      <th>10</th>\n",
       "      <td>B3ABEC2D-6650-40DC-85F3-0088E99D69BB</td>\n",
       "      <td>平潭县</td>\n",
       "      <td>350111</td>\n",
       "      <td>9B9C1354-B997-4EE3-849D-44A713FFD087</td>\n",
       "    </tr>\n",
       "    <tr>\n",
       "      <th>11</th>\n",
       "      <td>CBF374C1-9FE0-4E3A-82AB-008A9E0FD7E4</td>\n",
       "      <td>辽宁省</td>\n",
       "      <td>2100</td>\n",
       "      <td>00000000-0000-0000-0000-000000000000</td>\n",
       "    </tr>\n",
       "    <tr>\n",
       "      <th>12</th>\n",
       "      <td>BCE86D5A-E2C3-4137-AD24-0090BC61EA03</td>\n",
       "      <td>清远市</td>\n",
       "      <td>4418</td>\n",
       "      <td>24520182-A99A-411B-8EB5-7A6F36E3EBA3</td>\n",
       "    </tr>\n",
       "    <tr>\n",
       "      <th>13</th>\n",
       "      <td>9FE45196-EE13-0343-ABAC-009187610A25</td>\n",
       "      <td>那曲县</td>\n",
       "      <td>542401</td>\n",
       "      <td>D5B37B1F-98E7-40C4-A52A-73BF444F9CCC</td>\n",
       "    </tr>\n",
       "    <tr>\n",
       "      <th>14</th>\n",
       "      <td>533ACE26-F5B0-B746-A66C-00973BF30845</td>\n",
       "      <td>基本古</td>\n",
       "      <td>34604</td>\n",
       "      <td>CAECD925-1FD6-4144-B4E9-0C598B039EFA</td>\n",
       "    </tr>\n",
       "  </tbody>\n",
       "</table>\n",
       "</div>"
      ],
      "text/plain": [
       "                                      ID     Name     Code  \\\n",
       "0   1C6498FE-249B-1A43-B422-0005065014DD      昆士敦    23723   \n",
       "1   BEDE6E98-BB25-C34F-8072-0009C6AC9A30      莞岛郡  2251104   \n",
       "2   EFBBB2BD-D55A-AB4A-851D-000D351C830A      雅加达    22022   \n",
       "3   F588A7F4-7F80-0542-BDAC-00125CC159F3      太白市  2250614   \n",
       "4   13C5D575-2DB6-4046-A152-002647D30E7F  河口瑶族自治县   532513   \n",
       "5   CCDED271-BD76-9543-BC90-0036A6DFC01B     格但斯克    23215   \n",
       "6   7815F045-EF9B-4BAF-8B21-0046DFB52533      上虞区   330601   \n",
       "7   CB224E19-61D4-4089-96B2-004BDA6B6F05      青浦区     3115   \n",
       "8   136D7D0A-0B7E-164A-8D6A-005C392B49A1      扎囊县   542202   \n",
       "9   3F2DD3B4-F103-384B-8D0E-00654A274EA4      秦安县   620504   \n",
       "10  B3ABEC2D-6650-40DC-85F3-0088E99D69BB      平潭县   350111   \n",
       "11  CBF374C1-9FE0-4E3A-82AB-008A9E0FD7E4      辽宁省     2100   \n",
       "12  BCE86D5A-E2C3-4137-AD24-0090BC61EA03      清远市     4418   \n",
       "13  9FE45196-EE13-0343-ABAC-009187610A25      那曲县   542401   \n",
       "14  533ACE26-F5B0-B746-A66C-00973BF30845      基本古    34604   \n",
       "\n",
       "                                ParentId  \n",
       "0   D8A2AC7B-94C2-4A44-A58B-0F7D922CF6E5  \n",
       "1   028AE13A-8339-CB4F-BCE2-DA178DC545FA  \n",
       "2   9AB0317A-F5FC-405B-8EE9-22D8D63512D7  \n",
       "3   D9114555-C8E9-1041-A59B-F8C52D436D52  \n",
       "4   BED4857E-0FA1-423A-8647-95BDEBE17CBA  \n",
       "5   7C3FB74D-C3DD-4E0B-AE0B-5DCAA7AD43F6  \n",
       "6   F2464636-C812-4249-8E7F-5F8E3170F5C4  \n",
       "7   086DDA76-A2CB-4814-9967-38C208BFFE2E  \n",
       "8   96AD0C59-53C3-4FF0-9FC9-13AADAAD60AF  \n",
       "9   C00BDE93-3DC8-46E0-9C45-3E30ECBD10D5  \n",
       "10  9B9C1354-B997-4EE3-849D-44A713FFD087  \n",
       "11  00000000-0000-0000-0000-000000000000  \n",
       "12  24520182-A99A-411B-8EB5-7A6F36E3EBA3  \n",
       "13  D5B37B1F-98E7-40C4-A52A-73BF444F9CCC  \n",
       "14  CAECD925-1FD6-4144-B4E9-0C598B039EFA  "
      ]
     },
     "execution_count": 21,
     "metadata": {},
     "output_type": "execute_result"
    }
   ],
   "source": [
    "path = './data/地区常量.csv' #从 notebook 当前的位置读取 csv 文件\n",
    "\n",
    "df = pd.read_csv(open(path,'r',encoding='UTF-8'))   \n",
    "\n",
    "#df.info()\n",
    "df.head(15)"
   ]
  },
  {
   "cell_type": "code",
   "execution_count": 3,
   "metadata": {
    "collapsed": true
   },
   "outputs": [],
   "source": [
    "'''\n",
    "    根据ID获取地区对象\n",
    "'''\n",
    "def getLocById(Id):\n",
    "    temp = df[df.ID==Id].index\n",
    "    return df.iloc[temp].values\n",
    "\n",
    "'''\n",
    "    根据Code获取地区对象\n",
    "'''\n",
    "def getLocByCode(Code):\n",
    "    temp = df[df.Code==Code].index\n",
    "    return df.iloc[temp].values\n",
    "\n",
    "'''\n",
    "    是否有父节点\n",
    "'''\n",
    "def isHasParent(id):\n",
    "    if id == \"00000000-0000-0000-0000-000000000000\":\n",
    "        return False\n",
    "    else:\n",
    "        return True"
   ]
  },
  {
   "cell_type": "code",
   "execution_count": 24,
   "metadata": {},
   "outputs": [],
   "source": [
    "'''\n",
    "    根据ID获取地区全称\n",
    "'''\n",
    "def getLocFullNameById(Id,name=\"\"): \n",
    "    loc = getLocById(Id)\n",
    "    if name:\n",
    "        name = \"-\" + name\n",
    "    \n",
    "    name = loc[0,1] + name\n",
    "    if isHasParent(loc[0,3]):       \n",
    "        name = getLocFullNameById(loc[0,3],name)\n",
    "    return name\n",
    "\n",
    "'''\n",
    "    根据Code获取地区全称\n",
    "'''\n",
    "def getLocFullNameByCode(Code):     \n",
    "    loc = getLocByCode(Code)\n",
    "    return getLocFullNameById(loc[0,0])\n",
    "\n",
    "'''\n",
    "    根据逗号分隔的code批量获取地区全称\n",
    "'''\n",
    "def batchGetFullNameByCodes(Codes):\n",
    "    codeList = Codes.split(',')\n",
    "    locNameList = []\n",
    "    for i in codeList:\n",
    "        locNameList.append(getLocFullNameByCode(int(i)))\n",
    "    return \",\".join(locNameList)"
   ]
  },
  {
   "cell_type": "code",
   "execution_count": 5,
   "metadata": {},
   "outputs": [
    {
     "name": "stdout",
     "output_type": "stream",
     "text": [
      "河北省\n"
     ]
    }
   ],
   "source": [
    "dd=getLocFullNameById(\"8EFD71EF-8CCE-4684-96BC-492EDB18DAAC\")\n",
    "print(dd)"
   ]
  },
  {
   "cell_type": "code",
   "execution_count": 6,
   "metadata": {},
   "outputs": [
    {
     "name": "stdout",
     "output_type": "stream",
     "text": [
      "河北省-石家庄市-晋州市\n"
     ]
    }
   ],
   "source": [
    "cc=getLocFullNameByCode(130110)\n",
    "print(cc)"
   ]
  },
  {
   "cell_type": "code",
   "execution_count": 26,
   "metadata": {},
   "outputs": [
    {
     "name": "stdout",
     "output_type": "stream",
     "text": [
      "甘肃省-天水市-秦安县\n"
     ]
    }
   ],
   "source": [
    "codes = \"620504\"\n",
    "result = batchGetFullNameByCodes(codes)\n",
    "print(result)"
   ]
  },
  {
   "cell_type": "code",
   "execution_count": 50,
   "metadata": {},
   "outputs": [
    {
     "data": {
      "text/html": [
       "<div>\n",
       "<style>\n",
       "    .dataframe thead tr:only-child th {\n",
       "        text-align: right;\n",
       "    }\n",
       "\n",
       "    .dataframe thead th {\n",
       "        text-align: left;\n",
       "    }\n",
       "\n",
       "    .dataframe tbody tr th {\n",
       "        vertical-align: top;\n",
       "    }\n",
       "</style>\n",
       "<table border=\"1\" class=\"dataframe\">\n",
       "  <thead>\n",
       "    <tr style=\"text-align: right;\">\n",
       "      <th></th>\n",
       "      <th>JobAdId</th>\n",
       "      <th>LocName</th>\n",
       "    </tr>\n",
       "  </thead>\n",
       "  <tbody>\n",
       "    <tr>\n",
       "      <th>0</th>\n",
       "      <td>1</td>\n",
       "      <td>350111,4418</td>\n",
       "    </tr>\n",
       "    <tr>\n",
       "      <th>1</th>\n",
       "      <td>2</td>\n",
       "      <td>330601,3115</td>\n",
       "    </tr>\n",
       "  </tbody>\n",
       "</table>\n",
       "</div>"
      ],
      "text/plain": [
       "   JobAdId      LocName\n",
       "0        1  350111,4418\n",
       "1        2  330601,3115"
      ]
     },
     "execution_count": 50,
     "metadata": {},
     "output_type": "execute_result"
    }
   ],
   "source": [
    "path2 = './data/广告测试数据.csv' #从 notebook 当前的位置读取 csv 文件\n",
    "\n",
    "df2 = pd.read_csv(open(path2,'r',encoding='UTF-8'))   \n",
    "\n",
    "#df.info()\n",
    "df2.head(15)"
   ]
  },
  {
   "cell_type": "code",
   "execution_count": 51,
   "metadata": {},
   "outputs": [
    {
     "data": {
      "text/html": [
       "<div>\n",
       "<style>\n",
       "    .dataframe thead tr:only-child th {\n",
       "        text-align: right;\n",
       "    }\n",
       "\n",
       "    .dataframe thead th {\n",
       "        text-align: left;\n",
       "    }\n",
       "\n",
       "    .dataframe tbody tr th {\n",
       "        vertical-align: top;\n",
       "    }\n",
       "</style>\n",
       "<table border=\"1\" class=\"dataframe\">\n",
       "  <thead>\n",
       "    <tr style=\"text-align: right;\">\n",
       "      <th></th>\n",
       "      <th>JobAdId</th>\n",
       "      <th>LocName</th>\n",
       "    </tr>\n",
       "  </thead>\n",
       "  <tbody>\n",
       "    <tr>\n",
       "      <th>0</th>\n",
       "      <td>1</td>\n",
       "      <td>350111,4418</td>\n",
       "    </tr>\n",
       "    <tr>\n",
       "      <th>1</th>\n",
       "      <td>2</td>\n",
       "      <td>330601,3115</td>\n",
       "    </tr>\n",
       "  </tbody>\n",
       "</table>\n",
       "</div>"
      ],
      "text/plain": [
       "   JobAdId      LocName\n",
       "0        1  350111,4418\n",
       "1        2  330601,3115"
      ]
     },
     "execution_count": 51,
     "metadata": {},
     "output_type": "execute_result"
    }
   ],
   "source": [
    "df2"
   ]
  },
  {
   "cell_type": "code",
   "execution_count": 54,
   "metadata": {
    "collapsed": true
   },
   "outputs": [],
   "source": [
    "'''\n",
    "    生成\n",
    "'''\n",
    "def mergeForLocName(df_temp):\n",
    "    ll =[]\n",
    "    for index, row in df_temp.iterrows():\n",
    "        ll.append(batchGetFullNameByCodes(str(row.LocName)))\n",
    "    ser = pd.Series(ll)\n",
    "    df_temp[\"LocName\"]=ser\n",
    "    return df_temp"
   ]
  },
  {
   "cell_type": "code",
   "execution_count": 55,
   "metadata": {},
   "outputs": [
    {
     "data": {
      "text/html": [
       "<div>\n",
       "<style>\n",
       "    .dataframe thead tr:only-child th {\n",
       "        text-align: right;\n",
       "    }\n",
       "\n",
       "    .dataframe thead th {\n",
       "        text-align: left;\n",
       "    }\n",
       "\n",
       "    .dataframe tbody tr th {\n",
       "        vertical-align: top;\n",
       "    }\n",
       "</style>\n",
       "<table border=\"1\" class=\"dataframe\">\n",
       "  <thead>\n",
       "    <tr style=\"text-align: right;\">\n",
       "      <th></th>\n",
       "      <th>JobAdId</th>\n",
       "      <th>LocName</th>\n",
       "    </tr>\n",
       "  </thead>\n",
       "  <tbody>\n",
       "    <tr>\n",
       "      <th>0</th>\n",
       "      <td>1</td>\n",
       "      <td>福建省-福州市-平潭县,广东省-清远市</td>\n",
       "    </tr>\n",
       "    <tr>\n",
       "      <th>1</th>\n",
       "      <td>2</td>\n",
       "      <td>浙江省-绍兴市-上虞区,上海市-青浦区</td>\n",
       "    </tr>\n",
       "  </tbody>\n",
       "</table>\n",
       "</div>"
      ],
      "text/plain": [
       "   JobAdId              LocName\n",
       "0        1  福建省-福州市-平潭县,广东省-清远市\n",
       "1        2  浙江省-绍兴市-上虞区,上海市-青浦区"
      ]
     },
     "execution_count": 55,
     "metadata": {},
     "output_type": "execute_result"
    }
   ],
   "source": [
    "ret=mergeForLocName(df2)\n",
    "ret.to_csv('temp.csv', index=False)\n",
    "ret"
   ]
  },
  {
   "cell_type": "code",
   "execution_count": null,
   "metadata": {
    "collapsed": true
   },
   "outputs": [],
   "source": []
  }
 ],
 "metadata": {
  "kernelspec": {
   "display_name": "Python 3",
   "language": "python",
   "name": "python3"
  },
  "language_info": {
   "codemirror_mode": {
    "name": "ipython",
    "version": 3
   },
   "file_extension": ".py",
   "mimetype": "text/x-python",
   "name": "python",
   "nbconvert_exporter": "python",
   "pygments_lexer": "ipython3",
   "version": "3.6.2"
  }
 },
 "nbformat": 4,
 "nbformat_minor": 2
}
