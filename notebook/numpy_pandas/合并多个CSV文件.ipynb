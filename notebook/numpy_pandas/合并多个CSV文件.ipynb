{
 "cells": [
  {
   "cell_type": "code",
   "execution_count": 1,
   "metadata": {
    "collapsed": true
   },
   "outputs": [],
   "source": [
    "import os\n",
    "import numpy as np\n",
    "import pandas as pd\n",
    "from numpy import random\n",
    "from pandas import DataFrame, read_excel"
   ]
  },
  {
   "cell_type": "code",
   "execution_count": 2,
   "metadata": {
    "collapsed": true
   },
   "outputs": [],
   "source": [
    "def getAllCsv(f):\n",
    "    fs = os.listdir(f)\n",
    "    pathList = []\n",
    "    for filename in fs:\n",
    "        tmp_path = os.path.join(f,filename)\n",
    "        if not os.path.isdir(tmp_path):\n",
    "            if \"csv\" in filename and \"merge.csv\" not in filename:\n",
    "                pathList.append(tmp_path)                \n",
    "        else:            \n",
    "            traverse(tmp_path)   \n",
    "    return pathList"
   ]
  },
  {
   "cell_type": "code",
   "execution_count": 13,
   "metadata": {
    "collapsed": true
   },
   "outputs": [],
   "source": [
    "def GetFile(tmp_path):\n",
    "    # Excel 文件的路径\n",
    "    df = pd.read_csv(open(tmp_path,'r',encoding='UTF-8'))   \n",
    "    m, n = df.shape\n",
    "    if \"merge.csv\" in tmp_path:\n",
    "         print(\"成功合并到：{0},共{1}行数据,共{2}列\".format(tmp_path,m,n))\n",
    "    else:\n",
    "        print(\"文件名：{0},共{1}行数据,共{2}列\".format(tmp_path,m,n))\n",
    "    return df"
   ]
  },
  {
   "cell_type": "code",
   "execution_count": 17,
   "metadata": {
    "collapsed": true
   },
   "outputs": [],
   "source": [
    "'''\n",
    "    将所有csv文件，并将他们合并到一个csv文件中\n",
    "'''\n",
    "def mergeCsv(path):\n",
    "    csvList = getAllCsv(path)\n",
    "    if csvList:        \n",
    "        df_list = [GetFile(fpath) for fpath in csvList]\n",
    "        # 把 list 中所有的 dataframe 合并成一个\n",
    "        big_df = pd.concat(df_list) \n",
    "        mergeName = 'merge.csv'\n",
    "        if(os.path.exists(os.path.join(path,mergeName))):\n",
    "            os.remove(os.path.join(path,mergeName))\n",
    "        big_df.to_csv(os.path.join(path,mergeName),encoding='UTF-8',index=None)\n",
    "        GetFile(os.path.join(path,mergeName))"
   ]
  },
  {
   "cell_type": "code",
   "execution_count": 19,
   "metadata": {},
   "outputs": [
    {
     "name": "stdout",
     "output_type": "stream",
     "text": [
      "文件名：D:/my/wenjianjia/鲸鱼轮廓train47_885_ALL_1546071034.csv,共500行数据,共3列\n",
      "文件名：D:/my/wenjianjia/鲸鱼轮廓train48_886_ALL_1546071100.csv,共500行数据,共3列\n",
      "文件名：D:/my/wenjianjia/鲸鱼轮廓train49_887_ALL_1546071173.csv,共500行数据,共3列\n",
      "文件名：D:/my/wenjianjia/鲸鱼轮廓train50_888_ALL_1546071233.csv,共500行数据,共3列\n",
      "文件名：D:/my/wenjianjia/鲸鱼轮廓train51_889_ALL_1546071659.csv,共361行数据,共3列\n",
      "成功合并到：D:/my/wenjianjia/merge.csv,共2361行数据,共3列\n"
     ]
    }
   ],
   "source": [
    "path = 'D:/my/wenjianjia/'\n",
    "\n",
    "mergeCsv(path)"
   ]
  },
  {
   "cell_type": "code",
   "execution_count": null,
   "metadata": {
    "collapsed": true
   },
   "outputs": [],
   "source": []
  }
 ],
 "metadata": {
  "kernelspec": {
   "display_name": "Python 3",
   "language": "python",
   "name": "python3"
  },
  "language_info": {
   "codemirror_mode": {
    "name": "ipython",
    "version": 3
   },
   "file_extension": ".py",
   "mimetype": "text/x-python",
   "name": "python",
   "nbconvert_exporter": "python",
   "pygments_lexer": "ipython3",
   "version": "3.6.2"
  }
 },
 "nbformat": 4,
 "nbformat_minor": 2
}
